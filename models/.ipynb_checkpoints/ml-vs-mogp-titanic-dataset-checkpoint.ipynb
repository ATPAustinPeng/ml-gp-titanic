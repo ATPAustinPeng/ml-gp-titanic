{
 "cells": [
  {
   "cell_type": "markdown",
   "id": "e884c145",
   "metadata": {},
   "source": [
    "# Titanic Dataset Analysis"
   ]
  },
  {
   "cell_type": "markdown",
   "id": "646f5975",
   "metadata": {},
   "source": [
    "## Preprocessing"
   ]
  },
  {
   "cell_type": "code",
   "execution_count": 519,
   "id": "026f49e7",
   "metadata": {},
   "outputs": [
    {
     "name": "stdout",
     "output_type": "stream",
     "text": [
      "Populating the interactive namespace from numpy and matplotlib\n"
     ]
    },
    {
     "name": "stderr",
     "output_type": "stream",
     "text": [
      "/Library/Frameworks/Python.framework/Versions/3.8/lib/python3.8/site-packages/IPython/core/magics/pylab.py:159: UserWarning: pylab import has clobbered these variables: ['f', 'cm', 'std', 'mean']\n",
      "`%matplotlib` prevents importing * from pylab and numpy\n",
      "  warn(\"pylab import has clobbered these variables: %s\"  % clobbered +\n"
     ]
    },
    {
     "name": "stdout",
     "output_type": "stream",
     "text": [
      "Requirement already satisfied: deap in /Library/Frameworks/Python.framework/Versions/3.7/lib/python3.7/site-packages (1.3.1)\r\n",
      "Requirement already satisfied: numpy in /Library/Frameworks/Python.framework/Versions/3.7/lib/python3.7/site-packages (from deap) (1.19.4)\r\n"
     ]
    }
   ],
   "source": [
    "%pylab inline\n",
    "import pandas as pd\n",
    "import numpy as np\n",
    "from sklearn.model_selection import train_test_split\n",
    "import operator\n",
    "\n",
    "!pip install deap\n",
    "from deap import algorithms\n",
    "from deap import base\n",
    "from deap import creator\n",
    "from deap import tools\n",
    "from deap import gp"
   ]
  },
  {
   "cell_type": "code",
   "execution_count": 520,
   "id": "e56326a5",
   "metadata": {},
   "outputs": [],
   "source": [
    "train_data = pd.read_csv('../data/train.csv')\n",
    "test_data = pd.read_csv('../data/test.csv')"
   ]
  },
  {
   "cell_type": "code",
   "execution_count": 521,
   "id": "4672016b",
   "metadata": {},
   "outputs": [
    {
     "data": {
      "text/html": [
       "<div>\n",
       "<style scoped>\n",
       "    .dataframe tbody tr th:only-of-type {\n",
       "        vertical-align: middle;\n",
       "    }\n",
       "\n",
       "    .dataframe tbody tr th {\n",
       "        vertical-align: top;\n",
       "    }\n",
       "\n",
       "    .dataframe thead th {\n",
       "        text-align: right;\n",
       "    }\n",
       "</style>\n",
       "<table border=\"1\" class=\"dataframe\">\n",
       "  <thead>\n",
       "    <tr style=\"text-align: right;\">\n",
       "      <th></th>\n",
       "      <th>PassengerId</th>\n",
       "      <th>Survived</th>\n",
       "      <th>Pclass</th>\n",
       "      <th>Name</th>\n",
       "      <th>Sex</th>\n",
       "      <th>Age</th>\n",
       "      <th>SibSp</th>\n",
       "      <th>Parch</th>\n",
       "      <th>Ticket</th>\n",
       "      <th>Fare</th>\n",
       "      <th>Cabin</th>\n",
       "      <th>Embarked</th>\n",
       "    </tr>\n",
       "  </thead>\n",
       "  <tbody>\n",
       "    <tr>\n",
       "      <th>0</th>\n",
       "      <td>1</td>\n",
       "      <td>0</td>\n",
       "      <td>3</td>\n",
       "      <td>Braund, Mr. Owen Harris</td>\n",
       "      <td>male</td>\n",
       "      <td>22.0</td>\n",
       "      <td>1</td>\n",
       "      <td>0</td>\n",
       "      <td>A/5 21171</td>\n",
       "      <td>7.2500</td>\n",
       "      <td>NaN</td>\n",
       "      <td>S</td>\n",
       "    </tr>\n",
       "    <tr>\n",
       "      <th>1</th>\n",
       "      <td>2</td>\n",
       "      <td>1</td>\n",
       "      <td>1</td>\n",
       "      <td>Cumings, Mrs. John Bradley (Florence Briggs Th...</td>\n",
       "      <td>female</td>\n",
       "      <td>38.0</td>\n",
       "      <td>1</td>\n",
       "      <td>0</td>\n",
       "      <td>PC 17599</td>\n",
       "      <td>71.2833</td>\n",
       "      <td>C85</td>\n",
       "      <td>C</td>\n",
       "    </tr>\n",
       "    <tr>\n",
       "      <th>2</th>\n",
       "      <td>3</td>\n",
       "      <td>1</td>\n",
       "      <td>3</td>\n",
       "      <td>Heikkinen, Miss. Laina</td>\n",
       "      <td>female</td>\n",
       "      <td>26.0</td>\n",
       "      <td>0</td>\n",
       "      <td>0</td>\n",
       "      <td>STON/O2. 3101282</td>\n",
       "      <td>7.9250</td>\n",
       "      <td>NaN</td>\n",
       "      <td>S</td>\n",
       "    </tr>\n",
       "    <tr>\n",
       "      <th>3</th>\n",
       "      <td>4</td>\n",
       "      <td>1</td>\n",
       "      <td>1</td>\n",
       "      <td>Futrelle, Mrs. Jacques Heath (Lily May Peel)</td>\n",
       "      <td>female</td>\n",
       "      <td>35.0</td>\n",
       "      <td>1</td>\n",
       "      <td>0</td>\n",
       "      <td>113803</td>\n",
       "      <td>53.1000</td>\n",
       "      <td>C123</td>\n",
       "      <td>S</td>\n",
       "    </tr>\n",
       "    <tr>\n",
       "      <th>4</th>\n",
       "      <td>5</td>\n",
       "      <td>0</td>\n",
       "      <td>3</td>\n",
       "      <td>Allen, Mr. William Henry</td>\n",
       "      <td>male</td>\n",
       "      <td>35.0</td>\n",
       "      <td>0</td>\n",
       "      <td>0</td>\n",
       "      <td>373450</td>\n",
       "      <td>8.0500</td>\n",
       "      <td>NaN</td>\n",
       "      <td>S</td>\n",
       "    </tr>\n",
       "  </tbody>\n",
       "</table>\n",
       "</div>"
      ],
      "text/plain": [
       "   PassengerId  Survived  Pclass  \\\n",
       "0            1         0       3   \n",
       "1            2         1       1   \n",
       "2            3         1       3   \n",
       "3            4         1       1   \n",
       "4            5         0       3   \n",
       "\n",
       "                                                Name     Sex   Age  SibSp  \\\n",
       "0                            Braund, Mr. Owen Harris    male  22.0      1   \n",
       "1  Cumings, Mrs. John Bradley (Florence Briggs Th...  female  38.0      1   \n",
       "2                             Heikkinen, Miss. Laina  female  26.0      0   \n",
       "3       Futrelle, Mrs. Jacques Heath (Lily May Peel)  female  35.0      1   \n",
       "4                           Allen, Mr. William Henry    male  35.0      0   \n",
       "\n",
       "   Parch            Ticket     Fare Cabin Embarked  \n",
       "0      0         A/5 21171   7.2500   NaN        S  \n",
       "1      0          PC 17599  71.2833   C85        C  \n",
       "2      0  STON/O2. 3101282   7.9250   NaN        S  \n",
       "3      0            113803  53.1000  C123        S  \n",
       "4      0            373450   8.0500   NaN        S  "
      ]
     },
     "execution_count": 521,
     "metadata": {},
     "output_type": "execute_result"
    }
   ],
   "source": [
    "train_data.head()"
   ]
  },
  {
   "cell_type": "code",
   "execution_count": 522,
   "id": "85b51d07",
   "metadata": {},
   "outputs": [],
   "source": [
    "train_data.set_index(keys=['PassengerId'], drop=True, inplace=True)\n",
    "test_data.set_index(keys=['PassengerId'], drop=True, inplace=True)\n",
    "\n",
    "train_data.drop(columns=['Ticket', 'Cabin'], inplace=True)\n",
    "test_data.drop(columns=['Ticket', 'Cabin'], inplace=True)\n",
    "\n",
    "train_nan_map = {'Age': train_data['Age'].mean()}\n",
    "test_nan_map = {'Age': train_data['Age'].mean()}\n",
    "train_data.fillna(value=train_nan_map, inplace=True)\n",
    "test_data.fillna(value=test_nan_map, inplace=True)\n",
    "\n",
    "titles_map = {'Mr':1, 'Miss':2, 'Mrs':3, 'Master':4, 'Rare':5}\n",
    "\n",
    "data = [train_data, test_data]\n",
    "for dataset in data:\n",
    "    dataset['relatives'] = dataset['SibSp'] + dataset['Parch']\n",
    "    dataset.loc[dataset['relatives'] > 0, 'not_alone'] = 0\n",
    "    dataset.loc[dataset['relatives'] == 0, 'not_alone'] = 1\n",
    "    dataset['not_alone'] = dataset['not_alone'].astype(int)\n",
    "    dataset.drop(columns=['not_alone', 'Parch'], inplace=True)\n",
    "    \n",
    "    dataset.loc[ dataset['Age'] <= 11, 'Age'] = 0\n",
    "    dataset.loc[(dataset['Age'] > 11) & (dataset['Age'] <= 18), 'Age'] = 1\n",
    "    dataset.loc[(dataset['Age'] > 18) & (dataset['Age'] <= 22), 'Age'] = 2\n",
    "    dataset.loc[(dataset['Age'] > 22) & (dataset['Age'] <= 27), 'Age'] = 3\n",
    "    dataset.loc[(dataset['Age'] > 27) & (dataset['Age'] <= 33), 'Age'] = 4\n",
    "    dataset.loc[(dataset['Age'] > 33) & (dataset['Age'] <= 40), 'Age'] = 5\n",
    "    dataset.loc[(dataset['Age'] > 40) & (dataset['Age'] <= 66), 'Age'] = 6\n",
    "    dataset.loc[ dataset['Age'] > 66, 'Age'] = 6\n",
    "    \n",
    "    mean = train_data['Fare'].mean()\n",
    "    dataset['Fare'] = dataset['Fare'].fillna(mean)\n",
    "    dataset['Fare'] = dataset['Fare'].astype(int)\n",
    "    \n",
    "    dataset.loc[ dataset['Fare'] <= 7.78, 'Fare'] = 0\n",
    "    dataset.loc[(dataset['Fare'] > 7.78) & (dataset['Fare'] <= 8.662), 'Fare'] = 1\n",
    "    dataset.loc[(dataset['Fare'] > 8.662) & (dataset['Fare'] <= 14.454), 'Fare']   = 2\n",
    "    dataset.loc[(dataset['Fare'] > 14.454) & (dataset['Fare'] <= 26), 'Fare']   = 3\n",
    "    dataset.loc[(dataset['Fare'] > 26) & (dataset['Fare'] <= 52.369), 'Fare']   = 4\n",
    "    dataset.loc[ dataset['Fare'] > 52.369, 'Fare'] = 5\n",
    "    \n",
    "    mode = train_data['Embarked'].mode()[0]\n",
    "    dataset['Embarked'] = dataset['Embarked'].fillna(mode)\n",
    "    \n",
    "    dataset.loc[(dataset['Embarked']=='C') & (dataset['Sex']=='male'), 'gender_embarked']=1\n",
    "    dataset.loc[(dataset['Embarked']=='C') & (dataset['Sex']=='female'), 'gender_embarked']=0\n",
    "    dataset.loc[(dataset['Embarked']=='Q') & (dataset['Sex']=='male'), 'gender_embarked']=0\n",
    "    dataset.loc[(dataset['Embarked']=='Q') & (dataset['Sex']=='female'), 'gender_embarked']=1\n",
    "    dataset.loc[(dataset['Embarked']=='S') & (dataset['Sex']=='male'), 'gender_embarked']=0\n",
    "    dataset.loc[(dataset['Embarked']=='S') & (dataset['Sex']=='female'), 'gender_embarked']=1\n",
    "    \n",
    "    dataset['Title'] = dataset.Name.str.extract(' ([A-Za-z]+)\\.', expand=False)\n",
    "    \n",
    "    # replace titles with a more common title or as Rare\n",
    "    dataset['Title'] = dataset['Title'].replace(['Lady', 'Countess','Capt', 'Col','Don', 'Dr',\\\n",
    "                                            'Major', 'Rev', 'Sir', 'Jonkheer', 'Dona'], 'Rare')\n",
    "    dataset['Title'] = dataset['Title'].replace('Mlle', 'Miss')\n",
    "    dataset['Title'] = dataset['Title'].replace('Ms', 'Miss')\n",
    "    dataset['Title'] = dataset['Title'].replace('Mme', 'Mrs')\n",
    "    \n",
    "    # convert titles into numbers\n",
    "    dataset['Title'] = dataset['Title'].map(titles_map)\n",
    "    \n",
    "    # filling NaN with 0, to get safe\n",
    "    dataset['Title'] = dataset['Title'].fillna(0)\n",
    "    dataset.drop(columns=['Name'], inplace=True)\n",
    "    \n",
    "    dataset['age_class']=dataset['Age']*dataset['Pclass']\n",
    "\n",
    "columns_map={'Embarked':{'C':1.643, 'Q':1.156, 'S':1}, 'Sex':{'male':0, 'female':1}}\n",
    "train_data.replace(columns_map, inplace=True)\n",
    "test_data.replace(columns_map, inplace=True)\n",
    "\n",
    "X_train=train_data.loc[:,train_data.columns!='Survived']\n",
    "y_train=train_data.loc[:,'Survived']"
   ]
  },
  {
   "cell_type": "code",
   "execution_count": 523,
   "id": "fd3b0556",
   "metadata": {},
   "outputs": [],
   "source": [
    "#make splits\n",
    "X_train = train_data.loc[:, train_data.columns != 'Survived']\n",
    "y_train = train_data.loc[:, 'Survived']\n",
    "\n",
    "X_train, X_test, y_train, y_test = train_test_split(X_train, y_train, test_size=0.33, random_state=10)"
   ]
  },
  {
   "cell_type": "code",
   "execution_count": 524,
   "id": "476150e2",
   "metadata": {},
   "outputs": [
    {
     "data": {
      "text/html": [
       "<div>\n",
       "<style scoped>\n",
       "    .dataframe tbody tr th:only-of-type {\n",
       "        vertical-align: middle;\n",
       "    }\n",
       "\n",
       "    .dataframe tbody tr th {\n",
       "        vertical-align: top;\n",
       "    }\n",
       "\n",
       "    .dataframe thead th {\n",
       "        text-align: right;\n",
       "    }\n",
       "</style>\n",
       "<table border=\"1\" class=\"dataframe\">\n",
       "  <thead>\n",
       "    <tr style=\"text-align: right;\">\n",
       "      <th></th>\n",
       "      <th>Pclass</th>\n",
       "      <th>Sex</th>\n",
       "      <th>Age</th>\n",
       "      <th>SibSp</th>\n",
       "      <th>Fare</th>\n",
       "      <th>Embarked</th>\n",
       "      <th>relatives</th>\n",
       "      <th>gender_embarked</th>\n",
       "      <th>Title</th>\n",
       "      <th>age_class</th>\n",
       "    </tr>\n",
       "    <tr>\n",
       "      <th>PassengerId</th>\n",
       "      <th></th>\n",
       "      <th></th>\n",
       "      <th></th>\n",
       "      <th></th>\n",
       "      <th></th>\n",
       "      <th></th>\n",
       "      <th></th>\n",
       "      <th></th>\n",
       "      <th></th>\n",
       "      <th></th>\n",
       "    </tr>\n",
       "  </thead>\n",
       "  <tbody>\n",
       "    <tr>\n",
       "      <th>464</th>\n",
       "      <td>2</td>\n",
       "      <td>0</td>\n",
       "      <td>6.0</td>\n",
       "      <td>0</td>\n",
       "      <td>2</td>\n",
       "      <td>1.000</td>\n",
       "      <td>0</td>\n",
       "      <td>0.0</td>\n",
       "      <td>1</td>\n",
       "      <td>12.0</td>\n",
       "    </tr>\n",
       "    <tr>\n",
       "      <th>160</th>\n",
       "      <td>3</td>\n",
       "      <td>0</td>\n",
       "      <td>4.0</td>\n",
       "      <td>8</td>\n",
       "      <td>5</td>\n",
       "      <td>1.000</td>\n",
       "      <td>10</td>\n",
       "      <td>0.0</td>\n",
       "      <td>4</td>\n",
       "      <td>12.0</td>\n",
       "    </tr>\n",
       "    <tr>\n",
       "      <th>48</th>\n",
       "      <td>3</td>\n",
       "      <td>1</td>\n",
       "      <td>4.0</td>\n",
       "      <td>0</td>\n",
       "      <td>0</td>\n",
       "      <td>1.156</td>\n",
       "      <td>0</td>\n",
       "      <td>1.0</td>\n",
       "      <td>2</td>\n",
       "      <td>12.0</td>\n",
       "    </tr>\n",
       "    <tr>\n",
       "      <th>403</th>\n",
       "      <td>3</td>\n",
       "      <td>1</td>\n",
       "      <td>2.0</td>\n",
       "      <td>1</td>\n",
       "      <td>2</td>\n",
       "      <td>1.000</td>\n",
       "      <td>1</td>\n",
       "      <td>1.0</td>\n",
       "      <td>2</td>\n",
       "      <td>6.0</td>\n",
       "    </tr>\n",
       "    <tr>\n",
       "      <th>619</th>\n",
       "      <td>2</td>\n",
       "      <td>1</td>\n",
       "      <td>0.0</td>\n",
       "      <td>2</td>\n",
       "      <td>4</td>\n",
       "      <td>1.000</td>\n",
       "      <td>3</td>\n",
       "      <td>1.0</td>\n",
       "      <td>2</td>\n",
       "      <td>0.0</td>\n",
       "    </tr>\n",
       "  </tbody>\n",
       "</table>\n",
       "</div>"
      ],
      "text/plain": [
       "             Pclass  Sex  Age  SibSp  Fare  Embarked  relatives  \\\n",
       "PassengerId                                                       \n",
       "464               2    0  6.0      0     2     1.000          0   \n",
       "160               3    0  4.0      8     5     1.000         10   \n",
       "48                3    1  4.0      0     0     1.156          0   \n",
       "403               3    1  2.0      1     2     1.000          1   \n",
       "619               2    1  0.0      2     4     1.000          3   \n",
       "\n",
       "             gender_embarked  Title  age_class  \n",
       "PassengerId                                     \n",
       "464                      0.0      1       12.0  \n",
       "160                      0.0      4       12.0  \n",
       "48                       1.0      2       12.0  \n",
       "403                      1.0      2        6.0  \n",
       "619                      1.0      2        0.0  "
      ]
     },
     "execution_count": 524,
     "metadata": {},
     "output_type": "execute_result"
    }
   ],
   "source": [
    "X_train.head()"
   ]
  },
  {
   "cell_type": "code",
   "execution_count": 525,
   "id": "8c09f0f5",
   "metadata": {},
   "outputs": [
    {
     "data": {
      "text/plain": [
       "PassengerId\n",
       "464    0\n",
       "160    0\n",
       "48     1\n",
       "403    1\n",
       "619    1\n",
       "      ..\n",
       "370    1\n",
       "321    0\n",
       "528    0\n",
       "126    0\n",
       "266    0\n",
       "Name: Sex, Length: 596, dtype: int64"
      ]
     },
     "execution_count": 525,
     "metadata": {},
     "output_type": "execute_result"
    }
   ],
   "source": [
    "cols = X_train.columns\n",
    "X_train[cols[1]]"
   ]
  },
  {
   "cell_type": "markdown",
   "id": "2fbaf1ca",
   "metadata": {},
   "source": [
    "## Machine Learning Algorithms"
   ]
  },
  {
   "cell_type": "code",
   "execution_count": 623,
   "id": "20ae9f69",
   "metadata": {},
   "outputs": [
    {
     "name": "stdout",
     "output_type": "stream",
     "text": [
      "0.823728813559322\n",
      "[166  25  27  77]\n"
     ]
    }
   ],
   "source": [
    "from sklearn.neural_network import MLPClassifier\n",
    "\n",
    "mlp_clf = MLPClassifier(random_state=100, max_iter=1200).fit(X_train.values, y_train.values)\n",
    "print(mlp_clf.score(X_test.values, y_test.values))\n",
    "y_pred = mlp_clf.predict(X_test.values)\n",
    "y_truth = y_test.values\n",
    "cm = confusion_matrix(y_truth, y_pred)\n",
    "print(cm.ravel())"
   ]
  },
  {
   "cell_type": "code",
   "execution_count": 634,
   "id": "723360ae",
   "metadata": {},
   "outputs": [
    {
     "name": "stdout",
     "output_type": "stream",
     "text": [
      "0.847457627118644\n",
      "[170  21  24  80]\n"
     ]
    }
   ],
   "source": [
    "from sklearn.ensemble import RandomForestClassifier\n",
    "\n",
    "rf_clf = RandomForestClassifier(max_depth=5, random_state=10)\n",
    "rf_clf.fit(X_train.values, y_train.values)\n",
    "print(rf_clf.score(X_test.values, y_test.values))\n",
    "y_pred = rf_clf.predict(X_test.values)\n",
    "y_truth = y_test.values\n",
    "cm = confusion_matrix(y_truth, y_pred)\n",
    "print(cm.ravel())"
   ]
  },
  {
   "cell_type": "code",
   "execution_count": 528,
   "id": "22f9af22",
   "metadata": {},
   "outputs": [
    {
     "name": "stdout",
     "output_type": "stream",
     "text": [
      "0.7932203389830509\n",
      "[151  40  21  83]\n"
     ]
    }
   ],
   "source": [
    "from sklearn.naive_bayes import GaussianNB\n",
    "\n",
    "gnb_clf = GaussianNB()\n",
    "gnb_clf.fit(X_train.values, y_train.values)\n",
    "print(gnb_clf.score(X_test.values, y_test.values))\n",
    "y_pred = gnb_clf.predict(X_test.values)\n",
    "y_truth = y_test.values\n",
    "cm = confusion_matrix(y_truth, y_pred)\n",
    "print(cm.ravel())"
   ]
  },
  {
   "cell_type": "code",
   "execution_count": 632,
   "id": "ff844a7c",
   "metadata": {},
   "outputs": [
    {
     "name": "stdout",
     "output_type": "stream",
     "text": [
      "0.847457627118644\n",
      "[168  23  22  82]\n"
     ]
    }
   ],
   "source": [
    "from sklearn.pipeline import make_pipeline\n",
    "from sklearn.preprocessing import StandardScaler\n",
    "from sklearn.svm import SVC\n",
    "\n",
    "svm_clf = make_pipeline(StandardScaler(), SVC(gamma='auto'))\n",
    "svm_clf.fit(X_train.values, y_train.values)\n",
    "print(svm_clf.score(X_test.values, y_test.values))\n",
    "y_pred = svm_clf.predict(X_test.values)\n",
    "y_truth = y_test.values\n",
    "cm = confusion_matrix(y_truth, y_pred)\n",
    "print(cm.ravel())"
   ]
  },
  {
   "cell_type": "code",
   "execution_count": 633,
   "id": "9613f4af",
   "metadata": {},
   "outputs": [
    {
     "data": {
      "image/png": "[encoded data removed]",
      "text/plain": [
       "<Figure size 432x288 with 1 Axes>"
      ]
     },
     "metadata": {
      "needs_background": "light"
     },
     "output_type": "display_data"
    },
    {
     "name": "stdout",
     "output_type": "stream",
     "text": [
      "Area Under Curve: 0.85\n"
     ]
    }
   ],
   "source": [
    "# # exclude MLP because it is not pareto dominant\n",
    "fp = np.array([20, 21, 23, 40, 40])\n",
    "fp = fp / np.max(fp)\n",
    "fn = np.array([25, 24, 22, 21, 0])\n",
    "fn = fn / np.max(fn)\n",
    "\n",
    "fp = (fp - np.min(fp)) / (np.max(fp) - np.min(fp))\n",
    "fn = (fn - np.min(fn)) / (np.max(fn) - np.min(fn))\n",
    "\n",
    "plt.ylim(bottom=-0.1, top=1.1)\n",
    "plt.scatter(fn, fp, color='r')\n",
    "plt.plot(fn, fp, color='r', drawstyle='steps-post')\n",
    "plt.xlabel(\"FNR\")\n",
    "plt.ylabel(\"FPR\")\n",
    "plt.title(\"Pareto Front\")\n",
    "plt.show()\n",
    "\n",
    "# fp = np.array([30, 31, 40])\n",
    "# fp = fp / np.max(fp)\n",
    "# fn = np.array([28, 25, 21])\n",
    "# fn = fn / np.max(fn)\n",
    "\n",
    "# fp = (fp - np.min(fp)) / (np.max(fp) - np.min(fp))\n",
    "# fn = (fn - np.min(fn)) / (np.max(fn) - np.min(fn))\n",
    "\n",
    "\"\"\"Calculate area under curve with least squares method\"\"\"\n",
    "print(\"Area Under Curve: %s\" % (np.sum(np.abs(np.diff(fn))*fp[:-1])))"
   ]
  },
  {
   "cell_type": "code",
   "execution_count": 561,
   "id": "a1c3ce2a",
   "metadata": {},
   "outputs": [],
   "source": [
    "predictions = mlp_clf.predict(test_data.values)\n",
    "pred_df = pd.DataFrame(predictions, index=test_data.index, columns=['Survived'])\n",
    "pred_df.to_csv('ml_predictions.csv', header=True, sep=',')"
   ]
  },
  {
   "cell_type": "markdown",
   "id": "dfae1f65",
   "metadata": {},
   "source": [
    "## Multi Objective Genetic Programming (MOGP)"
   ]
  },
  {
   "cell_type": "code",
   "execution_count": 532,
   "id": "d584d7a8",
   "metadata": {},
   "outputs": [
    {
     "name": "stderr",
     "output_type": "stream",
     "text": [
      "/Library/Frameworks/Python.framework/Versions/3.8/lib/python3.8/site-packages/deap/creator.py:138: RuntimeWarning: A class named 'FitnessMin' has already been created and it will be overwritten. Consider deleting previous creation of that class or rename it.\n",
      "  warnings.warn(\"A class named '{0}' has already been created and it \"\n",
      "/Library/Frameworks/Python.framework/Versions/3.8/lib/python3.8/site-packages/deap/creator.py:138: RuntimeWarning: A class named 'Individual' has already been created and it will be overwritten. Consider deleting previous creation of that class or rename it.\n",
      "  warnings.warn(\"A class named '{0}' has already been created and it \"\n"
     ]
    }
   ],
   "source": [
    "#initialize multi-objective problem\n",
    "creator.create(\"FitnessMin\", base.Fitness, weights=(-1.0,-1.0))\n",
    "creator.create(\"Individual\", gp.PrimitiveTree, fitness=creator.FitnessMin)"
   ]
  },
  {
   "cell_type": "code",
   "execution_count": 533,
   "id": "5dc10f1c",
   "metadata": {},
   "outputs": [],
   "source": [
    "random.seed(25)\n",
    "\n",
    "# pset = gp.PrimitiveSet(\"MAIN\", arity=1)\n",
    "pset = gp.PrimitiveSetTyped(\"MAIN\", [float, bool, float, float, float, float, float, bool, float, float], bool)\n",
    "pset.addPrimitive(np.add, [float, float], float)\n",
    "pset.addPrimitive(np.subtract, [float, float], float)\n",
    "pset.addPrimitive(np.multiply, [float, float], float)\n",
    "\n",
    "\n",
    "#adding boolean logic\n",
    "pset.addPrimitive(np.logical_or, [bool, bool], bool)\n",
    "pset.addPrimitive(np.logical_and, [bool, bool], bool)\n",
    "pset.addPrimitive(np.logical_not, [bool], bool)\n",
    "pset.addPrimitive(np.greater, [float, float], bool)\n",
    "pset.addPrimitive(np.equal, [float, float], bool)\n",
    "# pset.addTerminal(3.0, float)\n",
    "# pset.addTerminal(1, bool)\n",
    "\n",
    "toolbox = base.Toolbox()\n",
    "toolbox.register(\"expr\", gp.genHalfAndHalf, pset=pset, min_=1, max_=2)\n",
    "toolbox.register(\"individual\", tools.initIterate, creator.Individual, toolbox.expr)\n",
    "toolbox.register(\"population\", tools.initRepeat, list, toolbox.individual)\n",
    "toolbox.register(\"compile\", gp.compile, pset=pset)"
   ]
  },
  {
   "cell_type": "code",
   "execution_count": 534,
   "id": "6571ee30",
   "metadata": {},
   "outputs": [],
   "source": [
    "def evaluation_func_multi(individual, x_train, y_train, pset):\n",
    "    func = gp.compile(expr=individual, pset=pset)\n",
    "    predictions = func(x_train[cols[0]],x_train[cols[1]],x_train[cols[2]],x_train[cols[3]],x_train[cols[4]],x_train[cols[5]],x_train[cols[6]],x_train[cols[7]],x_train[cols[8]],x_train[cols[9]])\n",
    "    confusion = confusion_matrix(y_train, predictions)\n",
    "    FN = confusion[1,0]\n",
    "    FP = confusion[0,1]\n",
    "    positives = np.sum(confusion, axis=1)[0]\n",
    "    negatives = np.sum(confusion, axis=1)[1]\n",
    "    \n",
    "    if FN >= positives or FP > negatives:\n",
    "        return (1000000, 1000000)\n",
    "    e1 = FN**2 + len(individual) * 20\n",
    "    e2 = FP**2 + len(individual) * 20\n",
    "    return (e1, e2)"
   ]
  },
  {
   "cell_type": "code",
   "execution_count": 535,
   "id": "aeadfbe0",
   "metadata": {},
   "outputs": [],
   "source": [
    "toolbox.register(\"evaluate\", evaluation_func_multi, x_train=X_train, y_train=y_train, pset=pset)\n",
    "toolbox.register(\"select\", tools.selLexicase) #randomly choose order of objectives\n",
    "toolbox.register(\"mate\", gp.cxOnePoint)\n",
    "toolbox.register(\"expr_mut\", gp.genFull, min_=0, max_=2)\n",
    "toolbox.register(\"mutate\", gp.mutUniform, expr=toolbox.expr_mut, pset=pset)\n",
    "\n",
    "toolbox.decorate(\"mate\", gp.staticLimit(key=operator.attrgetter(\"height\"), max_value=17))\n",
    "toolbox.decorate(\"mutate\", gp.staticLimit(key=operator.attrgetter(\"height\"), max_value=17))"
   ]
  },
  {
   "cell_type": "code",
   "execution_count": 536,
   "id": "220d8ee9",
   "metadata": {},
   "outputs": [
    {
     "name": "stdout",
     "output_type": "stream",
     "text": [
      "-- Generation 0 --\n",
      "  Min 8625.0\n",
      "  Max 2000000.0\n",
      "  Avg 340330.07\n",
      "  Std 697272.4628070472\n",
      "-- Generation 1 --\n"
     ]
    },
    {
     "name": "stderr",
     "output_type": "stream",
     "text": [
      "/var/folders/3t/xkpc06q95n18xb2k044pxdq40000gp/T/ipykernel_31559/581451859.py:49: DeprecationWarning: Calling np.sum(generator) is deprecated, and in the future will give a different result. Use np.sum(np.fromiter(generator)) or the python sum builtin instead.\n",
      "  sum2 = sum(x*x for x in fits)\n",
      "/var/folders/3t/xkpc06q95n18xb2k044pxdq40000gp/T/ipykernel_31559/581451859.py:49: DeprecationWarning: Calling np.sum(generator) is deprecated, and in the future will give a different result. Use np.sum(np.fromiter(generator)) or the python sum builtin instead.\n",
      "  sum2 = sum(x*x for x in fits)\n"
     ]
    },
    {
     "name": "stdout",
     "output_type": "stream",
     "text": [
      "  Min 8865.0\n",
      "  Max 2000000.0\n",
      "  Avg 384901.77\n",
      "  Std 730999.1189639267\n",
      "-- Generation 2 --\n",
      "  Min 8625.0\n",
      "  Max 2000000.0\n",
      "  Avg 363297.25\n",
      "  Std 714392.4312261906\n",
      "-- Generation 3 --\n"
     ]
    },
    {
     "name": "stderr",
     "output_type": "stream",
     "text": [
      "/var/folders/3t/xkpc06q95n18xb2k044pxdq40000gp/T/ipykernel_31559/581451859.py:49: DeprecationWarning: Calling np.sum(generator) is deprecated, and in the future will give a different result. Use np.sum(np.fromiter(generator)) or the python sum builtin instead.\n",
      "  sum2 = sum(x*x for x in fits)\n",
      "/var/folders/3t/xkpc06q95n18xb2k044pxdq40000gp/T/ipykernel_31559/581451859.py:49: DeprecationWarning: Calling np.sum(generator) is deprecated, and in the future will give a different result. Use np.sum(np.fromiter(generator)) or the python sum builtin instead.\n",
      "  sum2 = sum(x*x for x in fits)\n",
      "/var/folders/3t/xkpc06q95n18xb2k044pxdq40000gp/T/ipykernel_31559/581451859.py:49: DeprecationWarning: Calling np.sum(generator) is deprecated, and in the future will give a different result. Use np.sum(np.fromiter(generator)) or the python sum builtin instead.\n",
      "  sum2 = sum(x*x for x in fits)\n"
     ]
    },
    {
     "name": "stdout",
     "output_type": "stream",
     "text": [
      "  Min 12605.0\n",
      "  Max 2000000.0\n",
      "  Avg 324557.64\n",
      "  Std 676070.7047774593\n",
      "-- Generation 4 --\n",
      "  Min 8625.0\n",
      "  Max 2000000.0\n",
      "  Avg 462386.36\n",
      "  Std 792786.8784016108\n",
      "-- Generation 5 --\n",
      "  Min 8625.0\n",
      "  Max 2000000.0\n",
      "  Avg 304269.58\n",
      "  Std 655569.7223853795\n",
      "-- Generation 6 --\n"
     ]
    },
    {
     "name": "stderr",
     "output_type": "stream",
     "text": [
      "/var/folders/3t/xkpc06q95n18xb2k044pxdq40000gp/T/ipykernel_31559/581451859.py:49: DeprecationWarning: Calling np.sum(generator) is deprecated, and in the future will give a different result. Use np.sum(np.fromiter(generator)) or the python sum builtin instead.\n",
      "  sum2 = sum(x*x for x in fits)\n",
      "/var/folders/3t/xkpc06q95n18xb2k044pxdq40000gp/T/ipykernel_31559/581451859.py:49: DeprecationWarning: Calling np.sum(generator) is deprecated, and in the future will give a different result. Use np.sum(np.fromiter(generator)) or the python sum builtin instead.\n",
      "  sum2 = sum(x*x for x in fits)\n"
     ]
    },
    {
     "name": "stdout",
     "output_type": "stream",
     "text": [
      "  Min 8625.0\n",
      "  Max 2000000.0\n",
      "  Avg 440792.38\n",
      "  Std 779677.2361315775\n",
      "-- Generation 7 --\n",
      "  Min 15544.0\n",
      "  Max 2000000.0\n",
      "  Avg 344190.46\n",
      "  Std 695636.8760967811\n",
      "-- Generation 8 --\n"
     ]
    },
    {
     "name": "stderr",
     "output_type": "stream",
     "text": [
      "/var/folders/3t/xkpc06q95n18xb2k044pxdq40000gp/T/ipykernel_31559/581451859.py:49: DeprecationWarning: Calling np.sum(generator) is deprecated, and in the future will give a different result. Use np.sum(np.fromiter(generator)) or the python sum builtin instead.\n",
      "  sum2 = sum(x*x for x in fits)\n",
      "/var/folders/3t/xkpc06q95n18xb2k044pxdq40000gp/T/ipykernel_31559/581451859.py:49: DeprecationWarning: Calling np.sum(generator) is deprecated, and in the future will give a different result. Use np.sum(np.fromiter(generator)) or the python sum builtin instead.\n",
      "  sum2 = sum(x*x for x in fits)\n"
     ]
    },
    {
     "name": "stdout",
     "output_type": "stream",
     "text": [
      "  Min 8705.0\n",
      "  Max 2000000.0\n",
      "  Avg 481238.72\n",
      "  Std 806621.6008564993\n",
      "-- Generation 9 --\n",
      "  Min 8625.0\n",
      "  Max 2000000.0\n",
      "  Avg 577527.64\n",
      "  Std 865154.2726335982\n",
      "-- Generation 10 --\n"
     ]
    },
    {
     "name": "stderr",
     "output_type": "stream",
     "text": [
      "/var/folders/3t/xkpc06q95n18xb2k044pxdq40000gp/T/ipykernel_31559/581451859.py:49: DeprecationWarning: Calling np.sum(generator) is deprecated, and in the future will give a different result. Use np.sum(np.fromiter(generator)) or the python sum builtin instead.\n",
      "  sum2 = sum(x*x for x in fits)\n",
      "/var/folders/3t/xkpc06q95n18xb2k044pxdq40000gp/T/ipykernel_31559/581451859.py:49: DeprecationWarning: Calling np.sum(generator) is deprecated, and in the future will give a different result. Use np.sum(np.fromiter(generator)) or the python sum builtin instead.\n",
      "  sum2 = sum(x*x for x in fits)\n"
     ]
    },
    {
     "name": "stdout",
     "output_type": "stream",
     "text": [
      "  Min 8625.0\n",
      "  Max 2000000.0\n",
      "  Avg 399683.33\n",
      "  Std 749839.0176085938\n",
      "-- Generation 11 --\n",
      "  Min 17525.0\n",
      "  Max 2000000.0\n",
      "  Avg 362534.16\n",
      "  Std 714668.6973114706\n",
      "-- Generation 12 --\n"
     ]
    },
    {
     "name": "stderr",
     "output_type": "stream",
     "text": [
      "/var/folders/3t/xkpc06q95n18xb2k044pxdq40000gp/T/ipykernel_31559/581451859.py:49: DeprecationWarning: Calling np.sum(generator) is deprecated, and in the future will give a different result. Use np.sum(np.fromiter(generator)) or the python sum builtin instead.\n",
      "  sum2 = sum(x*x for x in fits)\n",
      "/var/folders/3t/xkpc06q95n18xb2k044pxdq40000gp/T/ipykernel_31559/581451859.py:49: DeprecationWarning: Calling np.sum(generator) is deprecated, and in the future will give a different result. Use np.sum(np.fromiter(generator)) or the python sum builtin instead.\n",
      "  sum2 = sum(x*x for x in fits)\n"
     ]
    },
    {
     "name": "stdout",
     "output_type": "stream",
     "text": [
      "  Min 8625.0\n",
      "  Max 2000000.0\n",
      "  Avg 262402.74\n",
      "  Std 610955.34043489\n",
      "-- Generation 13 --\n",
      "  Min 12445.0\n",
      "  Max 2000000.0\n",
      "  Avg 302601.64\n",
      "  Std 656195.9291948178\n",
      "-- Generation 14 --\n"
     ]
    },
    {
     "name": "stderr",
     "output_type": "stream",
     "text": [
      "/var/folders/3t/xkpc06q95n18xb2k044pxdq40000gp/T/ipykernel_31559/581451859.py:49: DeprecationWarning: Calling np.sum(generator) is deprecated, and in the future will give a different result. Use np.sum(np.fromiter(generator)) or the python sum builtin instead.\n",
      "  sum2 = sum(x*x for x in fits)\n",
      "/var/folders/3t/xkpc06q95n18xb2k044pxdq40000gp/T/ipykernel_31559/581451859.py:49: DeprecationWarning: Calling np.sum(generator) is deprecated, and in the future will give a different result. Use np.sum(np.fromiter(generator)) or the python sum builtin instead.\n",
      "  sum2 = sum(x*x for x in fits)\n"
     ]
    },
    {
     "name": "stdout",
     "output_type": "stream",
     "text": [
      "  Min 8705.0\n",
      "  Max 2000000.0\n",
      "  Avg 341309.42\n",
      "  Std 696832.7393001018\n",
      "-- Generation 15 --\n",
      "  Min 8625.0\n",
      "  Max 2000000.0\n",
      "  Avg 321693.81\n",
      "  Std 677215.424391555\n",
      "-- Generation 16 --\n"
     ]
    },
    {
     "name": "stderr",
     "output_type": "stream",
     "text": [
      "/var/folders/3t/xkpc06q95n18xb2k044pxdq40000gp/T/ipykernel_31559/581451859.py:49: DeprecationWarning: Calling np.sum(generator) is deprecated, and in the future will give a different result. Use np.sum(np.fromiter(generator)) or the python sum builtin instead.\n",
      "  sum2 = sum(x*x for x in fits)\n",
      "/var/folders/3t/xkpc06q95n18xb2k044pxdq40000gp/T/ipykernel_31559/581451859.py:49: DeprecationWarning: Calling np.sum(generator) is deprecated, and in the future will give a different result. Use np.sum(np.fromiter(generator)) or the python sum builtin instead.\n",
      "  sum2 = sum(x*x for x in fits)\n"
     ]
    },
    {
     "name": "stdout",
     "output_type": "stream",
     "text": [
      "  Min 8625.0\n",
      "  Max 2000000.0\n",
      "  Avg 262294.16\n",
      "  Std 610980.1548100023\n",
      "-- Generation 17 --\n",
      "  Min 8705.0\n",
      "  Max 2000000.0\n",
      "  Avg 341532.98\n",
      "  Std 696746.5788676968\n",
      "-- Generation 18 --\n"
     ]
    },
    {
     "name": "stderr",
     "output_type": "stream",
     "text": [
      "/var/folders/3t/xkpc06q95n18xb2k044pxdq40000gp/T/ipykernel_31559/581451859.py:49: DeprecationWarning: Calling np.sum(generator) is deprecated, and in the future will give a different result. Use np.sum(np.fromiter(generator)) or the python sum builtin instead.\n",
      "  sum2 = sum(x*x for x in fits)\n",
      "/var/folders/3t/xkpc06q95n18xb2k044pxdq40000gp/T/ipykernel_31559/581451859.py:49: DeprecationWarning: Calling np.sum(generator) is deprecated, and in the future will give a different result. Use np.sum(np.fromiter(generator)) or the python sum builtin instead.\n",
      "  sum2 = sum(x*x for x in fits)\n",
      "/var/folders/3t/xkpc06q95n18xb2k044pxdq40000gp/T/ipykernel_31559/581451859.py:49: DeprecationWarning: Calling np.sum(generator) is deprecated, and in the future will give a different result. Use np.sum(np.fromiter(generator)) or the python sum builtin instead.\n",
      "  sum2 = sum(x*x for x in fits)\n"
     ]
    },
    {
     "name": "stdout",
     "output_type": "stream",
     "text": [
      "  Min 17525.0\n",
      "  Max 2000000.0\n",
      "  Avg 498585.03\n",
      "  Std 820610.5356391477\n",
      "-- Generation 19 --\n",
      "  Min 8705.0\n",
      "  Max 2000000.0\n",
      "  Avg 360504.55\n",
      "  Std 715581.9848779645\n",
      "-- Generation 20 --\n",
      "  Min 8625.0\n",
      "  Max 2000000.0\n",
      "  Avg 400081.73\n",
      "  Std 749637.9781090985\n",
      "-- Generation 21 --\n"
     ]
    },
    {
     "name": "stderr",
     "output_type": "stream",
     "text": [
      "/var/folders/3t/xkpc06q95n18xb2k044pxdq40000gp/T/ipykernel_31559/581451859.py:49: DeprecationWarning: Calling np.sum(generator) is deprecated, and in the future will give a different result. Use np.sum(np.fromiter(generator)) or the python sum builtin instead.\n",
      "  sum2 = sum(x*x for x in fits)\n",
      "/var/folders/3t/xkpc06q95n18xb2k044pxdq40000gp/T/ipykernel_31559/581451859.py:49: DeprecationWarning: Calling np.sum(generator) is deprecated, and in the future will give a different result. Use np.sum(np.fromiter(generator)) or the python sum builtin instead.\n",
      "  sum2 = sum(x*x for x in fits)\n"
     ]
    },
    {
     "name": "stdout",
     "output_type": "stream",
     "text": [
      "  Min 8625.0\n",
      "  Max 2000000.0\n",
      "  Avg 360183.62\n",
      "  Std 715729.5376378396\n",
      "-- Generation 22 --\n",
      "  Min 8625.0\n",
      "  Max 2000000.0\n",
      "  Avg 243614.03\n",
      "  Std 585533.1303798353\n",
      "-- Generation 23 --\n",
      "  Min 12445.0\n",
      "  Max 2000000.0\n",
      "  Avg 322462.0\n",
      "  Std 676894.2478333081\n",
      "-- Generation 24 --\n"
     ]
    },
    {
     "name": "stderr",
     "output_type": "stream",
     "text": [
      "/var/folders/3t/xkpc06q95n18xb2k044pxdq40000gp/T/ipykernel_31559/581451859.py:49: DeprecationWarning: Calling np.sum(generator) is deprecated, and in the future will give a different result. Use np.sum(np.fromiter(generator)) or the python sum builtin instead.\n",
      "  sum2 = sum(x*x for x in fits)\n",
      "/var/folders/3t/xkpc06q95n18xb2k044pxdq40000gp/T/ipykernel_31559/581451859.py:49: DeprecationWarning: Calling np.sum(generator) is deprecated, and in the future will give a different result. Use np.sum(np.fromiter(generator)) or the python sum builtin instead.\n",
      "  sum2 = sum(x*x for x in fits)\n",
      "/var/folders/3t/xkpc06q95n18xb2k044pxdq40000gp/T/ipykernel_31559/581451859.py:49: DeprecationWarning: Calling np.sum(generator) is deprecated, and in the future will give a different result. Use np.sum(np.fromiter(generator)) or the python sum builtin instead.\n",
      "  sum2 = sum(x*x for x in fits)\n"
     ]
    },
    {
     "name": "stdout",
     "output_type": "stream",
     "text": [
      "  Min 8625.0\n",
      "  Max 2000000.0\n",
      "  Avg 342438.4\n",
      "  Std 696373.4852990456\n",
      "-- Generation 25 --\n",
      "  Min 8625.0\n",
      "  Max 2000000.0\n",
      "  Avg 321649.83\n",
      "  Std 677239.7231220132\n",
      "-- Generation 26 --\n",
      "  Min 8625.0\n",
      "  Max 2000000.0\n",
      "  Avg 400595.89\n",
      "  Std 749411.0011928154\n",
      "-- Generation 27 --\n"
     ]
    },
    {
     "name": "stderr",
     "output_type": "stream",
     "text": [
      "/var/folders/3t/xkpc06q95n18xb2k044pxdq40000gp/T/ipykernel_31559/581451859.py:49: DeprecationWarning: Calling np.sum(generator) is deprecated, and in the future will give a different result. Use np.sum(np.fromiter(generator)) or the python sum builtin instead.\n",
      "  sum2 = sum(x*x for x in fits)\n",
      "/var/folders/3t/xkpc06q95n18xb2k044pxdq40000gp/T/ipykernel_31559/581451859.py:49: DeprecationWarning: Calling np.sum(generator) is deprecated, and in the future will give a different result. Use np.sum(np.fromiter(generator)) or the python sum builtin instead.\n",
      "  sum2 = sum(x*x for x in fits)\n",
      "/var/folders/3t/xkpc06q95n18xb2k044pxdq40000gp/T/ipykernel_31559/581451859.py:49: DeprecationWarning: Calling np.sum(generator) is deprecated, and in the future will give a different result. Use np.sum(np.fromiter(generator)) or the python sum builtin instead.\n",
      "  sum2 = sum(x*x for x in fits)\n"
     ]
    },
    {
     "name": "stdout",
     "output_type": "stream",
     "text": [
      "  Min 17525.0\n",
      "  Max 2000000.0\n",
      "  Avg 458549.45\n",
      "  Std 794771.8941828703\n",
      "-- Generation 28 --\n",
      "  Min 8705.0\n",
      "  Max 2000000.0\n",
      "  Avg 245017.29\n",
      "  Std 585055.2226748737\n",
      "-- Generation 29 --\n",
      "  Min 8625.0\n",
      "  Max 2000000.0\n",
      "  Avg 243329.63\n",
      "  Std 585630.5567967686\n",
      "-- Generation 30 --\n"
     ]
    },
    {
     "name": "stderr",
     "output_type": "stream",
     "text": [
      "/var/folders/3t/xkpc06q95n18xb2k044pxdq40000gp/T/ipykernel_31559/581451859.py:49: DeprecationWarning: Calling np.sum(generator) is deprecated, and in the future will give a different result. Use np.sum(np.fromiter(generator)) or the python sum builtin instead.\n",
      "  sum2 = sum(x*x for x in fits)\n",
      "/var/folders/3t/xkpc06q95n18xb2k044pxdq40000gp/T/ipykernel_31559/581451859.py:49: DeprecationWarning: Calling np.sum(generator) is deprecated, and in the future will give a different result. Use np.sum(np.fromiter(generator)) or the python sum builtin instead.\n",
      "  sum2 = sum(x*x for x in fits)\n",
      "/var/folders/3t/xkpc06q95n18xb2k044pxdq40000gp/T/ipykernel_31559/581451859.py:49: DeprecationWarning: Calling np.sum(generator) is deprecated, and in the future will give a different result. Use np.sum(np.fromiter(generator)) or the python sum builtin instead.\n",
      "  sum2 = sum(x*x for x in fits)\n",
      "/var/folders/3t/xkpc06q95n18xb2k044pxdq40000gp/T/ipykernel_31559/581451859.py:49: DeprecationWarning: Calling np.sum(generator) is deprecated, and in the future will give a different result. Use np.sum(np.fromiter(generator)) or the python sum builtin instead.\n",
      "  sum2 = sum(x*x for x in fits)\n",
      "/var/folders/3t/xkpc06q95n18xb2k044pxdq40000gp/T/ipykernel_31559/581451859.py:49: DeprecationWarning: Calling np.sum(generator) is deprecated, and in the future will give a different result. Use np.sum(np.fromiter(generator)) or the python sum builtin instead.\n",
      "  sum2 = sum(x*x for x in fits)\n"
     ]
    },
    {
     "name": "stdout",
     "output_type": "stream",
     "text": [
      "  Min 12445.0\n",
      "  Max 2000000.0\n",
      "  Avg 362106.45\n",
      "  Std 714877.0994480153\n",
      "-- Generation 31 --\n",
      "  Min 8705.0\n",
      "  Max 2000000.0\n",
      "  Avg 184555.38\n",
      "  Std 498147.5673315846\n",
      "-- Generation 32 --\n",
      "  Min 8625.0\n",
      "  Max 2000000.0\n",
      "  Avg 282731.98\n",
      "  Std 634217.5264508066\n",
      "-- Generation 33 --\n"
     ]
    },
    {
     "name": "stderr",
     "output_type": "stream",
     "text": [
      "/var/folders/3t/xkpc06q95n18xb2k044pxdq40000gp/T/ipykernel_31559/581451859.py:49: DeprecationWarning: Calling np.sum(generator) is deprecated, and in the future will give a different result. Use np.sum(np.fromiter(generator)) or the python sum builtin instead.\n",
      "  sum2 = sum(x*x for x in fits)\n",
      "/var/folders/3t/xkpc06q95n18xb2k044pxdq40000gp/T/ipykernel_31559/581451859.py:49: DeprecationWarning: Calling np.sum(generator) is deprecated, and in the future will give a different result. Use np.sum(np.fromiter(generator)) or the python sum builtin instead.\n",
      "  sum2 = sum(x*x for x in fits)\n",
      "/var/folders/3t/xkpc06q95n18xb2k044pxdq40000gp/T/ipykernel_31559/581451859.py:49: DeprecationWarning: Calling np.sum(generator) is deprecated, and in the future will give a different result. Use np.sum(np.fromiter(generator)) or the python sum builtin instead.\n",
      "  sum2 = sum(x*x for x in fits)\n"
     ]
    },
    {
     "name": "stdout",
     "output_type": "stream",
     "text": [
      "  Min 8705.0\n",
      "  Max 2000000.0\n",
      "  Avg 441623.74\n",
      "  Std 779230.1676975375\n",
      "-- Generation 34 --\n",
      "  Min 12445.0\n",
      "  Max 2000000.0\n",
      "  Avg 340292.74\n",
      "  Std 697269.0998985632\n",
      "-- Generation 35 --\n",
      "  Min 17525.0\n",
      "  Max 2000000.0\n",
      "  Avg 420636.56\n",
      "  Std 764941.18150185\n",
      "-- Generation 36 --\n"
     ]
    },
    {
     "name": "stderr",
     "output_type": "stream",
     "text": [
      "/var/folders/3t/xkpc06q95n18xb2k044pxdq40000gp/T/ipykernel_31559/581451859.py:49: DeprecationWarning: Calling np.sum(generator) is deprecated, and in the future will give a different result. Use np.sum(np.fromiter(generator)) or the python sum builtin instead.\n",
      "  sum2 = sum(x*x for x in fits)\n",
      "/var/folders/3t/xkpc06q95n18xb2k044pxdq40000gp/T/ipykernel_31559/581451859.py:49: DeprecationWarning: Calling np.sum(generator) is deprecated, and in the future will give a different result. Use np.sum(np.fromiter(generator)) or the python sum builtin instead.\n",
      "  sum2 = sum(x*x for x in fits)\n",
      "/var/folders/3t/xkpc06q95n18xb2k044pxdq40000gp/T/ipykernel_31559/581451859.py:49: DeprecationWarning: Calling np.sum(generator) is deprecated, and in the future will give a different result. Use np.sum(np.fromiter(generator)) or the python sum builtin instead.\n",
      "  sum2 = sum(x*x for x in fits)\n"
     ]
    },
    {
     "name": "stdout",
     "output_type": "stream",
     "text": [
      "  Min 8625.0\n",
      "  Max 2000000.0\n",
      "  Avg 419749.57\n",
      "  Std 765387.6942599646\n",
      "-- Generation 37 --\n",
      "  Min 8625.0\n",
      "  Max 2000000.0\n",
      "  Avg 377964.1\n",
      "  Std 734155.1034932537\n",
      "-- Generation 38 --\n",
      "  Min 8865.0\n",
      "  Max 2000000.0\n",
      "  Avg 147152.0\n",
      "  Std 425172.82673557586\n",
      "-- Generation 39 --\n"
     ]
    },
    {
     "name": "stderr",
     "output_type": "stream",
     "text": [
      "/var/folders/3t/xkpc06q95n18xb2k044pxdq40000gp/T/ipykernel_31559/581451859.py:49: DeprecationWarning: Calling np.sum(generator) is deprecated, and in the future will give a different result. Use np.sum(np.fromiter(generator)) or the python sum builtin instead.\n",
      "  sum2 = sum(x*x for x in fits)\n",
      "/var/folders/3t/xkpc06q95n18xb2k044pxdq40000gp/T/ipykernel_31559/581451859.py:49: DeprecationWarning: Calling np.sum(generator) is deprecated, and in the future will give a different result. Use np.sum(np.fromiter(generator)) or the python sum builtin instead.\n",
      "  sum2 = sum(x*x for x in fits)\n",
      "/var/folders/3t/xkpc06q95n18xb2k044pxdq40000gp/T/ipykernel_31559/581451859.py:49: DeprecationWarning: Calling np.sum(generator) is deprecated, and in the future will give a different result. Use np.sum(np.fromiter(generator)) or the python sum builtin instead.\n",
      "  sum2 = sum(x*x for x in fits)\n"
     ]
    },
    {
     "name": "stdout",
     "output_type": "stream",
     "text": [
      "  Min 8625.0\n",
      "  Max 2000000.0\n",
      "  Avg 262790.07\n",
      "  Std 610816.3173075889\n",
      "-- Generation 40 --\n",
      "  Min 8625.0\n",
      "  Max 2000000.0\n",
      "  Avg 282481.29\n",
      "  Std 634315.2112572786\n",
      "-- Generation 41 --\n",
      "  Min 8625.0\n",
      "  Max 2000000.0\n",
      "  Avg 537249.85\n",
      "  Std 844552.3456526821\n",
      "-- Generation 42 --\n"
     ]
    },
    {
     "name": "stderr",
     "output_type": "stream",
     "text": [
      "/var/folders/3t/xkpc06q95n18xb2k044pxdq40000gp/T/ipykernel_31559/581451859.py:49: DeprecationWarning: Calling np.sum(generator) is deprecated, and in the future will give a different result. Use np.sum(np.fromiter(generator)) or the python sum builtin instead.\n",
      "  sum2 = sum(x*x for x in fits)\n",
      "/var/folders/3t/xkpc06q95n18xb2k044pxdq40000gp/T/ipykernel_31559/581451859.py:49: DeprecationWarning: Calling np.sum(generator) is deprecated, and in the future will give a different result. Use np.sum(np.fromiter(generator)) or the python sum builtin instead.\n",
      "  sum2 = sum(x*x for x in fits)\n",
      "/var/folders/3t/xkpc06q95n18xb2k044pxdq40000gp/T/ipykernel_31559/581451859.py:49: DeprecationWarning: Calling np.sum(generator) is deprecated, and in the future will give a different result. Use np.sum(np.fromiter(generator)) or the python sum builtin instead.\n",
      "  sum2 = sum(x*x for x in fits)\n"
     ]
    },
    {
     "name": "stdout",
     "output_type": "stream",
     "text": [
      "  Min 8625.0\n",
      "  Max 2000000.0\n",
      "  Avg 575333.64\n",
      "  Std 866474.2913220624\n",
      "-- Generation 43 --\n",
      "  Min 8625.0\n",
      "  Max 2000000.0\n",
      "  Avg 283520.71\n",
      "  Std 633900.9760922331\n",
      "-- Generation 44 --\n",
      "  Min 8705.0\n",
      "  Max 2000000.0\n",
      "  Avg 360513.89\n",
      "  Std 715582.0146313614\n",
      "-- Generation 45 --\n"
     ]
    },
    {
     "name": "stderr",
     "output_type": "stream",
     "text": [
      "/var/folders/3t/xkpc06q95n18xb2k044pxdq40000gp/T/ipykernel_31559/581451859.py:49: DeprecationWarning: Calling np.sum(generator) is deprecated, and in the future will give a different result. Use np.sum(np.fromiter(generator)) or the python sum builtin instead.\n",
      "  sum2 = sum(x*x for x in fits)\n",
      "/var/folders/3t/xkpc06q95n18xb2k044pxdq40000gp/T/ipykernel_31559/581451859.py:49: DeprecationWarning: Calling np.sum(generator) is deprecated, and in the future will give a different result. Use np.sum(np.fromiter(generator)) or the python sum builtin instead.\n",
      "  sum2 = sum(x*x for x in fits)\n",
      "/var/folders/3t/xkpc06q95n18xb2k044pxdq40000gp/T/ipykernel_31559/581451859.py:49: DeprecationWarning: Calling np.sum(generator) is deprecated, and in the future will give a different result. Use np.sum(np.fromiter(generator)) or the python sum builtin instead.\n",
      "  sum2 = sum(x*x for x in fits)\n"
     ]
    },
    {
     "name": "stdout",
     "output_type": "stream",
     "text": [
      "  Min 8625.0\n",
      "  Max 2000000.0\n",
      "  Avg 104975.41\n",
      "  Std 333442.33612809563\n",
      "-- Generation 46 --\n",
      "  Min 8625.0\n",
      "  Max 2000000.0\n",
      "  Avg 263115.07\n",
      "  Std 610685.7500639466\n",
      "-- Generation 47 --\n",
      "  Min 8625.0\n",
      "  Max 2000000.0\n",
      "  Avg 341255.81\n",
      "  Std 696868.7810655273\n",
      "-- Generation 48 --\n",
      "  Min 8625.0\n",
      "  Max 2000000.0\n",
      "  Avg 243865.26\n",
      "  Std 585452.775066591\n",
      "-- Generation 49 --\n",
      "  Min 17605.0\n",
      "  Max 2000000.0\n",
      "  Avg 223410.44\n",
      "  Std 558758.7364855662\n",
      "-- End of (successful) evolution --\n",
      "Best individual is equal(ARG9, ARG5), (54816.0, 60.0)\n"
     ]
    },
    {
     "name": "stderr",
     "output_type": "stream",
     "text": [
      "/var/folders/3t/xkpc06q95n18xb2k044pxdq40000gp/T/ipykernel_31559/581451859.py:49: DeprecationWarning: Calling np.sum(generator) is deprecated, and in the future will give a different result. Use np.sum(np.fromiter(generator)) or the python sum builtin instead.\n",
      "  sum2 = sum(x*x for x in fits)\n",
      "/var/folders/3t/xkpc06q95n18xb2k044pxdq40000gp/T/ipykernel_31559/581451859.py:49: DeprecationWarning: Calling np.sum(generator) is deprecated, and in the future will give a different result. Use np.sum(np.fromiter(generator)) or the python sum builtin instead.\n",
      "  sum2 = sum(x*x for x in fits)\n"
     ]
    }
   ],
   "source": [
    "gen = range(50)\n",
    "avg_list = []\n",
    "max_list = []\n",
    "min_list = []\n",
    "\n",
    "pop = toolbox.population(n=100)\n",
    "\n",
    "# Evaluate the entire population\n",
    "fitnesses = list(map(toolbox.evaluate, pop))\n",
    "for ind, fit in zip(pop, fitnesses):\n",
    "    ind.fitness.values = fit\n",
    "\n",
    "# Begin the evolution\n",
    "for g in gen:\n",
    "    print(\"-- Generation %i --\" % g)\n",
    "\n",
    "    # Select the next generation individuals\n",
    "    offspring = toolbox.select(pop, len(pop))\n",
    "    # Clone the selected individuals\n",
    "    offspring = list(map(toolbox.clone, offspring))\n",
    "\n",
    "    # Apply crossover and mutation on the offspring\n",
    "    for child1, child2 in zip(offspring[::2], offspring[1::2]):\n",
    "        if random.random() < 0.5:\n",
    "            toolbox.mate(child1, child2)\n",
    "            del child1.fitness.values\n",
    "            del child2.fitness.values\n",
    "\n",
    "    for mutant in offspring:\n",
    "        if random.random() < 0.2:\n",
    "            toolbox.mutate(mutant)\n",
    "            del mutant.fitness.values\n",
    "\n",
    "    # Evaluate the individuals with an invalid fitness\n",
    "    invalid_ind = [ind for ind in offspring if not ind.fitness.valid]\n",
    "    fitnesses = map(toolbox.evaluate, invalid_ind)\n",
    "    for ind, fit in zip(invalid_ind, fitnesses):\n",
    "        ind.fitness.values = fit\n",
    "\n",
    "    # Replace population\n",
    "    pop[:] = offspring\n",
    "\n",
    "    # Gather all the fitnesses in one list and print the stats\n",
    "    fits = [ind.fitness.values[0] + ind.fitness.values[1] for ind in pop]\n",
    "#     print(fits)\n",
    "\n",
    "    length = len(pop)\n",
    "    mean = sum(fits) / length\n",
    "    sum2 = sum(x*x for x in fits)\n",
    "    std = abs(sum2 / length - mean**2)**0.5\n",
    "    g_max = max(fits)\n",
    "    g_min = min(fits)\n",
    "        \n",
    "    avg_list.append(mean)\n",
    "    max_list.append(g_max)\n",
    "    min_list.append(g_min)\n",
    "\n",
    "    print(\"  Min %s\" % g_min)\n",
    "    print(\"  Max %s\" % g_max)\n",
    "    print(\"  Avg %s\" % mean)\n",
    "    print(\"  Std %s\" % std)\n",
    "\n",
    "print(\"-- End of (successful) evolution --\")\n",
    "\n",
    "best_ind = tools.selLexicase(pop, 1)[0]\n",
    "print(\"Best individual is %s, %s\" % (best_ind, best_ind.fitness.values))"
   ]
  },
  {
   "cell_type": "code",
   "execution_count": 537,
   "id": "784eb48b",
   "metadata": {},
   "outputs": [],
   "source": [
    "def pareto_dominance(ind1, ind2):\n",
    "    not_equal = False\n",
    "    for value_1, value_2 in zip(ind1.fitness.values, ind2.fitness.values):\n",
    "        if value_1 > value_2:\n",
    "            return 0\n",
    "        elif value_1 < value_2:\n",
    "            not_equal = True\n",
    "    return not_equal"
   ]
  },
  {
   "cell_type": "code",
   "execution_count": 538,
   "id": "0ac7a942",
   "metadata": {
    "scrolled": true
   },
   "outputs": [
    {
     "name": "stdout",
     "output_type": "stream",
     "text": [
      "100\n",
      "61\n",
      "(1581.0, 46285.0)\n",
      "(54816.0, 60.0)\n",
      "(31744.0, 1429.0)\n",
      "(42085.0, 1149.0)\n",
      "(51589.0, 64.0)\n",
      "(2176.0, 41676.0)\n",
      "(45469.0, 125.0)\n",
      "(8896.0, 8709.0)\n"
     ]
    }
   ],
   "source": [
    "non_dominated_ind = []\n",
    "print(len(pop))\n",
    "for ind1 in pop:\n",
    "    cur = [pareto_dominance(ind2,ind1) for ind2 in pop]\n",
    "    if True not in cur:\n",
    "        non_dominated_ind.append(ind1)\n",
    "print(len(non_dominated_ind))\n",
    "uniq = []\n",
    "for ind in non_dominated_ind:\n",
    "    if ind not in uniq:\n",
    "        uniq.append(ind)\n",
    "for ind in uniq:\n",
    "    print(ind.fitness.values)"
   ]
  },
  {
   "cell_type": "code",
   "execution_count": 539,
   "id": "7ac16b1c",
   "metadata": {},
   "outputs": [],
   "source": [
    "def evaluation_func_pred(individual, x_test, pset):\n",
    "    func = gp.compile(expr=individual, pset=pset)\n",
    "    predictions = func(x_test[cols[0]],x_test[cols[1]],x_test[cols[2]],x_test[cols[3]],x_test[cols[4]],x_test[cols[5]],x_test[cols[6]],x_test[cols[7]],x_test[cols[8]],x_test[cols[9]])\n",
    "    return predictions"
   ]
  },
  {
   "cell_type": "code",
   "execution_count": 558,
   "id": "a63b0ccd",
   "metadata": {},
   "outputs": [
    {
     "name": "stdout",
     "output_type": "stream",
     "text": [
      "[[0 0 0 ... 0 0 0]\n",
      " [0 0 0 ... 0 0 1]\n",
      " [1 0 0 ... 1 0 0]\n",
      " ...\n",
      " [0 0 0 ... 0 0 0]\n",
      " [1 0 0 ... 0 0 0]\n",
      " [1 0 0 ... 1 0 1]]\n"
     ]
    }
   ],
   "source": [
    "toolbox.register(\"evaluate\", evaluation_func_pred, x_test=test_data, pset=pset)\n",
    "predictions = list(map(toolbox.evaluate, uniq))\n",
    "predictions = [list(predictions[i]) for i in range(len(predictions))]\n",
    "predictions = np.array(predictions).T\n",
    "predictions = predictions.astype('int32')\n",
    "print(predictions)\n",
    "# df = pd.DataFrame(predictions)\n",
    "# df.head()"
   ]
  },
  {
   "cell_type": "code",
   "execution_count": 559,
   "id": "e1e9c4b7",
   "metadata": {},
   "outputs": [],
   "source": [
    "drop_cols = [1,2,3,4,5,6,7,8,9,10,11,12]\n",
    "predictions = predictions[:, [i for i in range(predictions.shape[1]) if i not in drop_cols]]\n",
    "df = pd.DataFrame(predictions, index=test_data.index, columns=['Survived'])\n",
    "with open(\"gp_predictions.csv\", \"w\") as f:\n",
    "    df.to_csv(f)"
   ]
  },
  {
   "cell_type": "code",
   "execution_count": 542,
   "id": "fd1d776a",
   "metadata": {},
   "outputs": [],
   "source": [
    "def evaluation_func_testing(individual, x_train, y_train, pset):\n",
    "    func = gp.compile(expr=individual, pset=pset)\n",
    "    predictions = func(x_train[cols[0]],x_train[cols[1]],x_train[cols[2]],x_train[cols[3]],x_train[cols[4]],x_train[cols[5]],x_train[cols[6]],x_train[cols[7]],x_train[cols[8]],x_train[cols[9]])\n",
    "    confusion = confusion_matrix(y_train, predictions)\n",
    "    FN = confusion[1,0]\n",
    "    FP = confusion[0,1]\n",
    "    positives = np.sum(confusion, axis=1)[0]\n",
    "    negatives = np.sum(confusion, axis=1)[1]\n",
    "    \n",
    "    return (FN/positives, FP/negatives)\n",
    "\n",
    "toolbox.register(\"evaluate\", evaluation_func_testing, x_train=X_test, y_train=y_test, pset=pset)\n",
    "fitnesses = list(map(toolbox.evaluate, uniq))\n",
    "\n",
    "# add bounds to pareto front\n",
    "fitnesses.append((1, 0))\n",
    "fitnesses.append((0, 1))\n",
    "\n",
    "fitnesses.sort(key = lambda x: x[0])\n",
    "\n",
    "fitness_1 = list()\n",
    "fitness_2 = list()\n",
    "\n",
    "for i in range(len(fitnesses)):\n",
    "    if (fitnesses[i][0] > 1 or fitnesses[i][0] < 0 or fitnesses[i][1] > 1 or fitnesses[i][1] < 0):\n",
    "        continue;\n",
    "    fitness_1.append(fitnesses[i][0])\n",
    "    fitness_2.append(fitnesses[i][1])"
   ]
  },
  {
   "cell_type": "code",
   "execution_count": 543,
   "id": "f8a20ceb",
   "metadata": {},
   "outputs": [
    {
     "name": "stdout",
     "output_type": "stream",
     "text": [
      "[0, 0.08376963350785341, 0.2617801047120419, 0.35602094240837695, 0.45549738219895286, 0.49214659685863876, 0.49214659685863876, 0.5340314136125655, 1]\n",
      "[1, 0.9230769230769231, 0.4326923076923077, 0.1346153846153846, 0.17307692307692307, 0.019230769230769232, 0.04807692307692308, 0.0, 0]\n"
     ]
    },
    {
     "data": {
      "image/png": "[encoded data removed]",
      "text/plain": [
       "<Figure size 432x288 with 1 Axes>"
      ]
     },
     "metadata": {
      "needs_background": "light"
     },
     "output_type": "display_data"
    },
    {
     "name": "stdout",
     "output_type": "stream",
     "text": [
      "Area Under Curve: 0.3106121627064035\n"
     ]
    }
   ],
   "source": [
    "# Pareto front (ML)\n",
    "fp = np.array([30, 35, 40])\n",
    "fp = fp / np.max(fp)\n",
    "fn = np.array([29, 28, 21])\n",
    "fn = fn / np.max(fn)\n",
    "\n",
    "fp = (fp - np.min(fp)) / (np.max(fp) - np.min(fp))\n",
    "fn = (fn - np.min(fn)) / (np.max(fn) - np.min(fn))\n",
    "\n",
    "#Pareto front (MOGP)\n",
    "print(fitness_1)\n",
    "print(fitness_2)\n",
    "\n",
    "plt.scatter(fp, fn, color='b')\n",
    "plt.plot(fp, fn, color='b', drawstyle='steps-post')\n",
    "\n",
    "plt.scatter(fitness_1, fitness_2, color='r')\n",
    "plt.plot(fitness_1, fitness_2, color='r', drawstyle='steps-post')\n",
    "plt.xlabel(\"FNR\")\n",
    "plt.ylabel(\"FPR\")\n",
    "plt.title(\"Pareto Front\")\n",
    "plt.show()\n",
    "\n",
    "f1 = np.array(fitness_1)\n",
    "f2 = np.array(fitness_2)\n",
    "\n",
    "\"\"\"Calculate area under curve with least squares method\"\"\"\n",
    "print(\"Area Under Curve: %s\" % (np.sum(np.abs(np.diff(f1))*f2[:-1])))"
   ]
  },
  {
   "cell_type": "markdown",
   "id": "7eeab82d",
   "metadata": {},
   "source": [
    "## Summary and Analysis"
   ]
  },
  {
   "cell_type": "markdown",
   "id": "dca66a08",
   "metadata": {},
   "source": [
    "- For machine learning, we used 4 algorithms, multilayer perceptron, random forest, gaussian naive bayes, and logistic regression. However, only 3 (MLP, RF, and GNB) of these algorithms \"created\" non-dominant individuals.\n",
    "- The pareto front created by these 3 machine learning algorithms had an AUC of 0.05714285714285721.\n",
    "\n",
    "- For multi-objective genetic programming, we ran one evolution for 50 generations.\n",
    "- The pareto front created by the MOGP individuals had an AUC of 0.19960732984293195.\n",
    "\n",
    "- The significant improvement in the minimization of AUC by genetic programming (vs. machine learning) is most likely due to having more  non-dominant individuals.\n",
    "- When performing machine learning algorithms on the dataset, though the individual performances of the algorithms averaged around 80% accuracy, the algorithms tended to be codominant and thus cannot be included in the pareto front."
   ]
  }
 ],
 "metadata": {
  "kernelspec": {
   "display_name": "Python 3 (ipykernel)",
   "language": "python",
   "name": "python3"
  },
  "language_info": {
   "codemirror_mode": {
    "name": "ipython",
    "version": 3
   },
   "file_extension": ".py",
   "mimetype": "text/x-python",
   "name": "python",
   "nbconvert_exporter": "python",
   "pygments_lexer": "ipython3",
   "version": "3.8.6"
  }
 },
 "nbformat": 4,
 "nbformat_minor": 5
}
